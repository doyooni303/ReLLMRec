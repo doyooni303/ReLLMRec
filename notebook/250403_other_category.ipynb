{
 "cells": [
  {
   "cell_type": "code",
   "execution_count": 3,
   "metadata": {},
   "outputs": [],
   "source": [
    "import os\n",
    "from collections import defaultdict\n",
    "from tqdm import tqdm\n",
    "\n",
    "fname=\"Movies_and_TV\"\n",
    "path = f\"/DATA/Recommendation/amazon/{fname}\""
   ]
  },
  {
   "cell_type": "code",
   "execution_count": 4,
   "metadata": {},
   "outputs": [],
   "source": [
    "import json\n",
    "def open_json(file_path):\n",
    "    with open(file_path, \"r\") as f:\n",
    "        dict_list = [json.loads(line[:-1]) for line in f.readlines()]\n",
    "    return dict_list\n",
    "meta = open_json(os.path.join(path, f\"meta_{fname}.jsonl\"))\n",
    "data = open_json(os.path.join(path, f\"{fname}.jsonl\"))"
   ]
  },
  {
   "cell_type": "code",
   "execution_count": 22,
   "metadata": {},
   "outputs": [
    {
     "data": {
      "text/plain": [
       "({'main_category': 'Movies & TV',\n",
       "  'title': 'The New Method Pre & Post Natal Yoga [DVD]',\n",
       "  'average_rating': 4.2,\n",
       "  'rating_number': 27,\n",
       "  'features': [],\n",
       "  'description': [],\n",
       "  'price': 7.85,\n",
       "  'images': [{'thumb': 'https://m.media-amazon.com/images/I/41VHYCN1KFL._SX38_SY50_CR,0,0,38,50_.jpg',\n",
       "    'large': 'https://m.media-amazon.com/images/I/41VHYCN1KFL.jpg',\n",
       "    'variant': 'MAIN',\n",
       "    'hi_res': None}],\n",
       "  'videos': [],\n",
       "  'store': 'Gurmukh Kaur Khalsa  (Actor)    Rated:    Unrated    Format: DVD',\n",
       "  'categories': ['Movies & TV', 'Boxed Sets', 'Fitness & Yoga'],\n",
       "  'details': {'Genre': 'Exercise & Fitness',\n",
       "   'Format': 'Box set, Color, DVD, NTSC',\n",
       "   'Contributor': 'Gurmukh Kaur Khalsa',\n",
       "   'Language': 'English',\n",
       "   'Number Of Discs': '2',\n",
       "   'Aspect Ratio': '1.33:1',\n",
       "   'Is Discontinued By Manufacturer': 'No',\n",
       "   'MPAA rating': 'Unrated (Not Rated)',\n",
       "   'Product Dimensions': '7.75 x 5.25 x 1.5 inches; 8 Ounces',\n",
       "   'Item model number': '08977083',\n",
       "   'Media Format': 'Box set, Color, DVD, NTSC',\n",
       "   'Run time': '1 hour and 52 minutes',\n",
       "   'Release date': 'November 5, 2002',\n",
       "   'Actors': 'Gurmukh Kaur Khalsa',\n",
       "   'Studio': 'Peter Pan',\n",
       "   'Number of discs': '2'},\n",
       "  'parent_asin': 'B00007FGE5',\n",
       "  'bought_together': None},\n",
       " {'main_category': 'Movies & TV',\n",
       "  'title': 'Tribute',\n",
       "  'average_rating': 5.0,\n",
       "  'rating_number': 1,\n",
       "  'features': [],\n",
       "  'description': [],\n",
       "  'price': None,\n",
       "  'images': [{'thumb': 'https://m.media-amazon.com/images/I/51Yv4zPG8bL._SX38_SY50_CR,0,0,38,50_.jpg',\n",
       "    'large': 'https://m.media-amazon.com/images/I/51Yv4zPG8bL.jpg',\n",
       "    'variant': 'MAIN',\n",
       "    'hi_res': None}],\n",
       "  'videos': [],\n",
       "  'store': 'Format: DVD',\n",
       "  'categories': ['Movies & TV', 'Movies'],\n",
       "  'details': {},\n",
       "  'parent_asin': 'B01M7WXY8M',\n",
       "  'bought_together': None})"
      ]
     },
     "execution_count": 22,
     "metadata": {},
     "output_type": "execute_result"
    }
   ],
   "source": [
    "meta[13], meta[166]"
   ]
  },
  {
   "cell_type": "code",
   "execution_count": 20,
   "metadata": {},
   "outputs": [],
   "source": [
    "no_description = []\n",
    "no_details = []\n",
    "for i, m in enumerate(meta):\n",
    "    if not m['description']:\n",
    "        no_description.append(i)\n",
    "    if not m['details']:\n",
    "        no_details.append(i)\n"
   ]
  }
 ],
 "metadata": {
  "kernelspec": {
   "display_name": "Python 3",
   "language": "python",
   "name": "python3"
  },
  "language_info": {
   "codemirror_mode": {
    "name": "ipython",
    "version": 3
   },
   "file_extension": ".py",
   "mimetype": "text/x-python",
   "name": "python",
   "nbconvert_exporter": "python",
   "pygments_lexer": "ipython3",
   "version": "3.9.20"
  }
 },
 "nbformat": 4,
 "nbformat_minor": 2
}
