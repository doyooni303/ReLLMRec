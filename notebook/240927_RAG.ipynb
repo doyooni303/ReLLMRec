{
 "cells": [
  {
   "cell_type": "markdown",
   "metadata": {},
   "source": [
    "Goal: 각 item의 meta 정보를 연결해서 document로 만들고 이를 db로 저장"
   ]
  },
  {
   "cell_type": "code",
   "execution_count": 1,
   "metadata": {},
   "outputs": [],
   "source": [
    "import os\n",
    "import argparse\n",
    "config = dict()\n",
    "config['langchain_key'] = '/home/doyooni303/API_KEYS/langchain.txt'\n",
    "config['openai_key'] = '/home/doyooni303/API_KEYS/OpenAI.txt'\n",
    "\n",
    "\n",
    "def set_environ(config):\n",
    "    os.environ['LANGCHAIN_TRACING_V2'] = 'true'\n",
    "    os.environ['LANGCHAIN_ENDPOINT'] = 'https://api.smith.langchain.com'\n",
    "    with open(config['langchain_key'],'r') as f: langchain_key = f.readline()\n",
    "    os.environ['LANGCHAIN_API_KEY'] = langchain_key\n",
    "    with open(config[\"openai_key\"],'r') as f: openai_key = f.readline()\n",
    "    os.environ['OPENAI_API_KEY'] = openai_key\n",
    "\n",
    "set_environ(config)\n"
   ]
  },
  {
   "cell_type": "code",
   "execution_count": 2,
   "metadata": {},
   "outputs": [
    {
     "name": "stderr",
     "output_type": "stream",
     "text": [
      "USER_AGENT environment variable not set, consider setting it to identify your requests.\n"
     ]
    }
   ],
   "source": [
    "from langchain import hub\n",
    "from langchain.text_splitter import RecursiveCharacterTextSplitter\n",
    "from langchain_community.document_loaders import WebBaseLoader\n",
    "from langchain_community.vectorstores import Chroma\n",
    "from langchain_core.output_parsers import StrOutputParser\n",
    "from langchain_core.runnables import RunnablePassthrough\n",
    "from langchain_openai import ChatOpenAI, OpenAIEmbeddings"
   ]
  },
  {
   "cell_type": "code",
   "execution_count": 3,
   "metadata": {},
   "outputs": [],
   "source": [
    "# item meta data 불러오기\n",
    "import json\n",
    "config['DATASET']=dict()\n",
    "config['DATASET']['name'] = 'Books'\n",
    "config['DATASET']['folder'] = '/home/doyooni303/experiments/sequential_recsys/datasets/amazon'\n",
    "item2idx = json.load(open(os.path.join(config['DATASET']['folder'],\n",
    "                                       config['DATASET']['name'],\n",
    "                                       f\"{config['DATASET']['name']}_item2idx.json\"),\"r\"))"
   ]
  },
  {
   "cell_type": "code",
   "execution_count": 4,
   "metadata": {},
   "outputs": [
    {
     "data": {
      "text/plain": [
       "int"
      ]
     },
     "execution_count": 4,
     "metadata": {},
     "output_type": "execute_result"
    }
   ],
   "source": [
    "type(list(item2idx.values())[0])"
   ]
  },
  {
   "cell_type": "code",
   "execution_count": 5,
   "metadata": {},
   "outputs": [],
   "source": [
    "itemidx2meta = json.load(open(os.path.join(config['DATASET']['folder'],\n",
    "                                       config['DATASET']['name'],\n",
    "                                       f\"{config['DATASET']['name']}_itemidx2meta.json\"),\"r\"))"
   ]
  },
  {
   "cell_type": "code",
   "execution_count": 7,
   "metadata": {},
   "outputs": [],
   "source": [
    "itemidx2meta = {int(key):value for key, value in itemidx2meta.items()}"
   ]
  },
  {
   "cell_type": "code",
   "execution_count": 9,
   "metadata": {},
   "outputs": [
    {
     "data": {
      "text/plain": [
       "{'main_category': 'Books',\n",
       " 'title': 'Chaucer',\n",
       " 'subtitle': 'Hardcover – Import, January 1, 2004',\n",
       " 'author': {'avatar': 'https://m.media-amazon.com/images/I/21Je2zja9pL._SY600_.jpg',\n",
       "  'name': 'Peter Ackroyd',\n",
       "  'about': ['Peter Ackroyd, (born 5 October 1949) is an English biographer, novelist and critic with a particular interest in the history and culture of London. For his novels about English history and culture and his biographies of, among others, William Blake, Charles Dickens, T. S. Eliot and Sir Thomas More, he won the Somerset Maugham Award and two Whitbread Awards. He is noted for the volume of work he has produced, the range of styles therein, his skill at assuming different voices and the depth of his research.',\n",
       "   'He was elected a fellow of the Royal Society of Literature in 1984 and appointed a Commander of the Order of the British Empire in 2003.',\n",
       "   'Bio from Wikipedia, the free encyclopedia.']},\n",
       " 'average_rating': 4.5,\n",
       " 'rating_number': 29,\n",
       " 'features': [],\n",
       " 'description': [],\n",
       " 'price': 8.23,\n",
       " 'images': [{'large': 'https://m.media-amazon.com/images/I/41X61VPJYKL._SX334_BO1,204,203,200_.jpg',\n",
       "   'variant': 'MAIN'}],\n",
       " 'videos': [],\n",
       " 'store': 'Peter Ackroyd (Author)',\n",
       " 'categories': ['Books', 'Literature & Fiction', 'History & Criticism'],\n",
       " 'details': {'Publisher': 'Chatto & Windus; First Edition (January 1, 2004)',\n",
       "  'Language': 'English',\n",
       "  'Hardcover': '196 pages',\n",
       "  'ISBN 10': '0701169850',\n",
       "  'ISBN 13': '978-0701169855',\n",
       "  'Item Weight': '10.1 ounces',\n",
       "  'Dimensions': '5.39 x 0.71 x 7.48 inches'},\n",
       " 'parent_asin': '0701169850',\n",
       " 'bought_together': None}"
      ]
     },
     "execution_count": 9,
     "metadata": {},
     "output_type": "execute_result"
    }
   ],
   "source": [
    "meta = itemidx2meta[0]\n",
    "meta_keys = list(meta.keys())\n",
    "meta,meta_keys"
   ]
  },
  {
   "cell_type": "code",
   "execution_count": null,
   "metadata": {},
   "outputs": [],
   "source": [
    "# documents 만들기\n",
    "from langchain_core.prompts import PromptTemplate\n",
    "class Prompt:\n",
    "    def __init__(self,meta:dict, *args) -> None:\n",
    "        self.meta = meta\n",
    "        self.args = args"
   ]
  },
  {
   "cell_type": "code",
   "execution_count": null,
   "metadata": {},
   "outputs": [],
   "source": [
    "# Split\n",
    "text_splitter = RecursiveCharacterTextSplitter(chunk_size=1000, chunk_overlap=200)\n",
    "splits = text_splitter.split_documents(docs)\n",
    "\n",
    "# Embed\n",
    "vectorstore = Chroma.from_documents(documents=splits, \n",
    "                                    embedding=OpenAIEmbeddings())\n",
    "\n",
    "retriever = vectorstore.as_retriever()\n",
    "\n",
    "#### RETRIEVAL and GENERATION ####\n",
    "\n",
    "# Prompt\n",
    "prompt = hub.pull(\"rlm/rag-prompt\")\n",
    "\n",
    "# LLM\n",
    "llm = ChatOpenAI(model_name=\"gpt-3.5-turbo\", temperature=0)\n",
    "\n",
    "# Post-processing\n",
    "def format_docs(docs):\n",
    "    return \"\\n\\n\".join(doc.page_content for doc in docs)\n",
    "\n",
    "# Chain\n",
    "rag_chain = (\n",
    "    {\"context\": retriever | format_docs, \"question\": RunnablePassthrough()}\n",
    "    | prompt\n",
    "    | llm\n",
    "    | StrOutputParser()\n",
    ")\n",
    "\n",
    "# Question\n",
    "answer = rag_chain.invoke(\"What is Task Decomposition?\")"
   ]
  }
 ],
 "metadata": {
  "kernelspec": {
   "display_name": "Python 3",
   "language": "python",
   "name": "python3"
  },
  "language_info": {
   "codemirror_mode": {
    "name": "ipython",
    "version": 3
   },
   "file_extension": ".py",
   "mimetype": "text/x-python",
   "name": "python",
   "nbconvert_exporter": "python",
   "pygments_lexer": "ipython3",
   "version": "3.9.20"
  }
 },
 "nbformat": 4,
 "nbformat_minor": 2
}
