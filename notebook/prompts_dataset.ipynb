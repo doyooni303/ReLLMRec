{
 "cells": [
  {
   "cell_type": "code",
   "execution_count": 1,
   "metadata": {},
   "outputs": [],
   "source": [
    "import os\n",
    "import json\n",
    "from collections import defaultdict\n",
    "from tqdm import tqdm"
   ]
  },
  {
   "cell_type": "code",
   "execution_count": 2,
   "metadata": {},
   "outputs": [
    {
     "name": "stderr",
     "output_type": "stream",
     "text": [
      "100%|██████████| 3735584/3735584 [02:57<00:00, 21033.74it/s]\n",
      "100%|██████████| 67409944/67409944 [11:11<00:00, 100356.56it/s]\n"
     ]
    }
   ],
   "source": [
    "\n",
    "\n",
    "def open_jsonl(path):\n",
    "    with open(path, \"r\") as f:\n",
    "        for line in tqdm(f.readlines()):\n",
    "            yield json.loads(line.rstrip())\n",
    "\n",
    "folder = \"/home/doyooni303/experiments/sequential_recsys/datasets/amazon\"\n",
    "dataset = \"Home_and_Kitchen\"\n",
    "jsonl_path = lambda name, types: f\"{name}.jsonl\" if types == \"data\" else f\"meta_{name}.jsonl\"\n",
    "data_path = os.path.join(folder, dataset, jsonl_path(dataset,\"data\"))\n",
    "meta_path = os.path.join(folder, dataset, jsonl_path(dataset,\"meta\"))\n",
    "\n",
    "history_dict = defaultdict(list)\n",
    "itemidx2meta = dict()\n",
    "item2idx, idx2item = dict(), dict()\n",
    "user2idx, idx2user = dict(), dict()\n",
    "uidx, iidx = 0,0\n",
    "for line in open_jsonl(meta_path):\n",
    "    item_id = line['parent_asin']\n",
    "    if item_id not in item2idx.keys():\n",
    "        item2idx.update({item_id:iidx})\n",
    "        idx2item.update({iidx:item_id})\n",
    "        iidx += 1\n",
    "\n",
    "    if item_id not in itemidx2meta.keys():\n",
    "        itemidx2meta.update({item2idx[item_id]:line})\n",
    "for line in open_jsonl(data_path):\n",
    "    user_id = line['user_id']\n",
    "    iidx = item2idx[line['parent_asin']]\n",
    "    review = \" \".join([line['title'],line['text']]) # title과 실제 리뷰를 연결\n",
    "    rating = line['rating']\n",
    "    timestamp = line['timestamp']\n",
    "\n",
    "    # histroy\n",
    "    if user_id not in user2idx.keys():\n",
    "        user2idx.update({user_id:uidx})\n",
    "        idx2user.update({uidx:user_id})\n",
    "        uidx += 1\n",
    "    \n",
    "    history_dict[user2idx[user_id]].append((iidx,timestamp))\n",
    "\n",
    "\n",
    "filtered_history_dict = {key:value for key,value in history_dict.items() if len(value)>=3}\n",
    "filtered_users_list = list(filtered_history_dict.keys())\n",
    "len(filtered_history_dict)\n",
    "\n",
    "final_history = dict()\n",
    "for uidx, item_time in filtered_history_dict.items():\n",
    "    item_time = sorted(item_time,key=lambda x:x[1])\n",
    "    final_history.update({uidx:item_time})\n",
    "\n"
   ]
  },
  {
   "cell_type": "code",
   "execution_count": 3,
   "metadata": {},
   "outputs": [
    {
     "data": {
      "text/plain": [
       "(                  0\n",
       " count  2.323585e+07\n",
       " mean   2.901118e+00\n",
       " std    5.243946e+00\n",
       " min    1.000000e+00\n",
       " 25%    1.000000e+00\n",
       " 50%    2.000000e+00\n",
       " 75%    3.000000e+00\n",
       " max    2.754000e+03,\n",
       " 12764)"
      ]
     },
     "execution_count": 3,
     "metadata": {},
     "output_type": "execute_result"
    }
   ],
   "source": [
    "import pandas as pd\n",
    "import numpy as np\n",
    "num_reviews = pd.DataFrame([len(value) for value in history_dict.values()])\n",
    "list_ = np.array([len(value) for value in history_dict.values()])\n",
    "num_reviews.describe(),np.argmax(list_)"
   ]
  },
  {
   "cell_type": "markdown",
   "metadata": {},
   "source": [
    "History length가 at least >=3 이상인 user 만"
   ]
  },
  {
   "cell_type": "code",
   "execution_count": 19,
   "metadata": {},
   "outputs": [
    {
     "data": {
      "text/plain": [
       "7128656"
      ]
     },
     "execution_count": 19,
     "metadata": {},
     "output_type": "execute_result"
    }
   ],
   "source": []
  },
  {
   "cell_type": "code",
   "execution_count": 28,
   "metadata": {},
   "outputs": [],
   "source": []
  },
  {
   "cell_type": "code",
   "execution_count": 32,
   "metadata": {},
   "outputs": [],
   "source": [
    "import json\n",
    "json.dump(final_history,\n",
    "          open(f\"./amazon/{dataset}/{dataset}_final_history.json\",\"w\"),\n",
    "          indent=4,)"
   ]
  },
  {
   "cell_type": "code",
   "execution_count": 33,
   "metadata": {},
   "outputs": [],
   "source": [
    "json.dump(itemidx2meta,\n",
    "          open(f\"./amazon/{dataset}/{dataset}_itemidx2meta.json\",\"w\"),\n",
    "          indent=4,)\n",
    "\n",
    "json.dump(user2idx,\n",
    "          open(f\"./amazon/{dataset}/{dataset}_user2idx.json\",\"w\"),\n",
    "          indent=4,)\n",
    "\n",
    "json.dump(item2idx,\n",
    "          open(f\"./amazon/{dataset}/{dataset}_item2idx.json\",\"w\"),\n",
    "          indent=4,)"
   ]
  },
  {
   "cell_type": "code",
   "execution_count": null,
   "metadata": {},
   "outputs": [],
   "source": []
  }
 ],
 "metadata": {
  "kernelspec": {
   "display_name": "Python 3",
   "language": "python",
   "name": "python3"
  },
  "language_info": {
   "codemirror_mode": {
    "name": "ipython",
    "version": 3
   },
   "file_extension": ".py",
   "mimetype": "text/x-python",
   "name": "python",
   "nbconvert_exporter": "python",
   "pygments_lexer": "ipython3",
   "version": "3.9.20"
  }
 },
 "nbformat": 4,
 "nbformat_minor": 2
}
