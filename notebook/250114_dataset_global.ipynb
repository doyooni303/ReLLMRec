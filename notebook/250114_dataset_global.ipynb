{
 "cells": [
  {
   "cell_type": "code",
   "execution_count": 1,
   "metadata": {},
   "outputs": [],
   "source": [
    "import os\n",
    "import json\n",
    "dataset_path = \"/data3/doyoon/sequential_recsys/datasets/\"\n",
    "dataset = \"amazon\"\n",
    "category = \"Books\"\n",
    "history = json.load(open(os.path.join(dataset_path, dataset, category,f\"{category}_history.json\"),'r'))"
   ]
  },
  {
   "cell_type": "markdown",
   "metadata": {},
   "source": [
    "- history 개수가 5개 미만인 사용자 제외"
   ]
  },
  {
   "cell_type": "code",
   "execution_count": 2,
   "metadata": {},
   "outputs": [
    {
     "name": "stderr",
     "output_type": "stream",
     "text": [
      "  0%|          | 0/10297355 [00:00<?, ?it/s]"
     ]
    },
    {
     "name": "stderr",
     "output_type": "stream",
     "text": [
      "100%|██████████| 10297355/10297355 [00:08<00:00, 1172692.29it/s]\n"
     ]
    }
   ],
   "source": [
    "from tqdm import tqdm\n",
    "max_length = 20\n",
    "min_length = 3\n",
    "history_preprocessed = {}\n",
    "train,test = [],[]\n",
    "for key,value in tqdm(history.items()):\n",
    "  if len(value) >= min_length:\n",
    "    v = value[-max_length:]\n",
    "    # if len(v) != max_length:\n",
    "    #   v.extend([-(int(key)+1) for _ in range(max_length-len(v))])\n",
    "    # history_preprocessed.update({key:v})\n",
    "    train.append(f\"{key}:{' '.join([str(i) for i in v[:-1]])}\"+\"\\n\")\n",
    "    test.append(f\"{key}:{v[-1]}\\n\")"
   ]
  },
  {
   "cell_type": "code",
   "execution_count": 4,
   "metadata": {},
   "outputs": [
    {
     "data": {
      "text/plain": [
       "(['0:1945431 2452595 88270 355469 40654 1713140 2380715 2341241 339641 2351576 280910 2576601\\n',\n",
       "  '2:3461987 1032782 1963966 1792308 3030498 2369634\\n',\n",
       "  '4:198578 1668531 535140 1766997 1337529 615767 55169\\n',\n",
       "  '13:345099 1452422 78893 1489059\\n',\n",
       "  '15:2343046 2764800 3040361 462613 3080938 1789409 2707497 3179788 2421035\\n',\n",
       "  '17:2109156 350884 3190436 46772 2075914 1557189 373437 2116078\\n',\n",
       "  '23:982836 1405752 2720032 1898646 1931931 3120313 2025695 1692876 1228375 325424 959037 2083595 755555 233312 239335 1576688 940756 2284338 2785377\\n',\n",
       "  '31:322544 1149085 1345320 414759 869525\\n',\n",
       "  '32:321400 2135092 370421 1072228\\n',\n",
       "  '33:718308 1891840 3345791 204620 1122136 1398973 3015640 2411922 618022 1055487 2639141\\n'],\n",
       " ['0:3226299\\n',\n",
       "  '2:1477122\\n',\n",
       "  '4:3014095\\n',\n",
       "  '13:2178292\\n',\n",
       "  '15:2749918\\n',\n",
       "  '17:2776863\\n',\n",
       "  '23:2863308\\n',\n",
       "  '31:1047851\\n',\n",
       "  '32:1933127\\n',\n",
       "  '33:761555\\n'])"
      ]
     },
     "execution_count": 4,
     "metadata": {},
     "output_type": "execute_result"
    }
   ],
   "source": [
    "train[:10], test[:10]"
   ]
  },
  {
   "cell_type": "code",
   "execution_count": 18,
   "metadata": {},
   "outputs": [],
   "source": [
    "from typing import List\n",
    "def write_text_file(file_path: str, data: List):\n",
    "  with open(file_path, 'w') as f:\n",
    "    f.writelines(data)\n",
    "\n",
    "path = \"/home/doyooni303/experiments/sequential_recsys/SELFRec/dataset/amazon-books\"\n",
    "write_text_file(os.path.join(path, \"train.txt\"), train)\n",
    "write_text_file(os.path.join(path, \"test.txt\"), test)"
   ]
  },
  {
   "cell_type": "code",
   "execution_count": null,
   "metadata": {},
   "outputs": [],
   "source": [
    "def read_text_file(file_path):\n",
    "    with open(file_path, 'r') as f:\n",
    "        return f.readlines()\n",
    "\n",
    "data_folder = \"/home/doyooni303/experiments/sequential_recsys/SELFRec/dataset/amazon-beauty\"\n",
    "basic_train = read_text_file(\n",
    "    os.path.join(data_folder, \"train.txt\")\n",
    ")\n",
    "basic_test = read_text_file(\n",
    "    os.path.join(data_folder, \"test.txt\")\n",
    ")\n",
    "basic_train[0], basic_test"
   ]
  }
 ],
 "metadata": {
  "kernelspec": {
   "display_name": "Python 3",
   "language": "python",
   "name": "python3"
  },
  "language_info": {
   "codemirror_mode": {
    "name": "ipython",
    "version": 3
   },
   "file_extension": ".py",
   "mimetype": "text/x-python",
   "name": "python",
   "nbconvert_exporter": "python",
   "pygments_lexer": "ipython3",
   "version": "3.9.20"
  }
 },
 "nbformat": 4,
 "nbformat_minor": 2
}
