{
 "cells": [
  {
   "cell_type": "code",
   "execution_count": 1,
   "metadata": {},
   "outputs": [],
   "source": [
    "import os, sys\n",
    "\n",
    "sys.path.append(\"/home/doyooni303/experiments/LLMRec/ReLLMRec\")\n",
    "import argparse\n",
    "import yaml\n",
    "import hashlib\n",
    "import torch\n",
    "from torch.optim import AdamW\n",
    "\n",
    "from src.models import CandiRec\n",
    "from src.train import Trainer\n",
    "from src.utils import set_seed"
   ]
  },
  {
   "cell_type": "code",
   "execution_count": 2,
   "metadata": {},
   "outputs": [],
   "source": [
    "os.chdir(\"/home/doyooni303/experiments/LLMRec/ReLLMRec\")"
   ]
  },
  {
   "cell_type": "code",
   "execution_count": 3,
   "metadata": {},
   "outputs": [],
   "source": [
    "os.environ[\"TOKENIZERS_PARALLELISM\"] = \"true\"\n",
    "\n",
    "parser = argparse.ArgumentParser()\n",
    "parser.add_argument(\"--fname\", type=str, default=\"Books\")\n",
    "parser.add_argument(\"--gpu\", type=int, default=0)\n",
    "parser.add_argument(\"--top_k\", type=int, default=10)\n",
    "parser.add_argument(\"--batch_size\", type=int, default=2)\n",
    "parser.add_argument(\"--max_epochs\", type=int, default=10)\n",
    "parser.add_argument(\"--max_steps\", type=int, default=100)\n",
    "parser.add_argument(\"--train_mode\", type=str, default=\"epochs\")\n",
    "\n",
    "args = parser.parse_args([])\n",
    "yaml_path = os.path.join(\"./configs\", f\"{args.fname}.yaml\")\n",
    "config = yaml.load(open(yaml_path, \"r\"), Loader=yaml.FullLoader)\n",
    "for key, value in args.__dict__.items():\n",
    "    config.update({key: value})\n",
    "\n",
    "if config[\"train_mode\"] == \"epochs\":\n",
    "    name = f\"-\".join([f\"{key}_{config[key]}\" for key in [\"top_k\", \"max_epochs\"]])\n",
    "    config.update({\"eval_interval\": config[\"max_epochs\"] // 10})\n",
    "elif config[\"train_mode\"] == \"steps\":\n",
    "    name = f\"-\".join([f\"{key}_{config[key]}\" for key in [\"top_k\", \"max_steps\"]])\n",
    "    config.update({\"eval_interval\": config[\"max_steps\"] // 10})\n",
    "    \n",
    "save_path = os.path.join(config[\"output\"], config[\"fname\"], name)\n",
    "os.makedirs(save_path, exist_ok=True)\n",
    "config.update({\"save_path\": save_path})"
   ]
  },
  {
   "cell_type": "code",
   "execution_count": 4,
   "metadata": {},
   "outputs": [
    {
     "data": {
      "application/vnd.jupyter.widget-view+json": {
       "model_id": "c4c623978cec47d28a441a89098b5d50",
       "version_major": 2,
       "version_minor": 0
      },
      "text/plain": [
       "Loading checkpoint shards:   0%|          | 0/4 [00:00<?, ?it/s]"
      ]
     },
     "metadata": {},
     "output_type": "display_data"
    },
    {
     "name": "stderr",
     "output_type": "stream",
     "text": [
      "splitting data by user: 100%|██████████| 1188598/1188598 [00:03<00:00, 343013.97it/s]\n",
      "splitting data by user: 100%|██████████| 1188598/1188598 [00:03<00:00, 347540.70it/s]\n"
     ]
    }
   ],
   "source": [
    "set_seed(config[\"seed\"])\n",
    "\n",
    "device = torch.device(\n",
    "    f'cuda:{config[\"gpu\"]}' if torch.cuda.is_available() else \"cpu\"\n",
    ")\n",
    "\n",
    "model = CandiRec(config).to(device=device, dtype=torch.float16)\n",
    "optimizer = AdamW(model.parameters(), lr=float(config[\"lr\"]))\n",
    "\n",
    "trainer = Trainer(model, optimizer, config)"
   ]
  },
  {
   "cell_type": "markdown",
   "metadata": {},
   "source": [
    "### Skip"
   ]
  },
  {
   "cell_type": "code",
   "execution_count": 5,
   "metadata": {},
   "outputs": [
    {
     "name": "stderr",
     "output_type": "stream",
     "text": [
      "100%|█████████▉| 464102/464103 [29:30<00:00, 262.19it/s] \n"
     ]
    }
   ],
   "source": [
    "from tqdm import tqdm\n",
    "for i, batch in tqdm(enumerate(trainer.trainloader),total=len(trainer.trainloader)):\n",
    "    if i == len(trainer.trainloader)-1:\n",
    "        break"
   ]
  },
  {
   "cell_type": "code",
   "execution_count": 10,
   "metadata": {},
   "outputs": [],
   "source": [
    "normal_batch = {}\n",
    "last_batch = {}\n",
    "for k,v in batch.items():\n",
    "    if (\"input_ids\" in k) or (\"attention_mask\" in k):\n",
    "        normal_batch[k] = v[:2].to(device)\n",
    "        last_batch[k] = v[-1,].to(device)\n",
    "    else:\n",
    "        normal_batch[k] = v[:2]\n",
    "        last_batch[k] = v[-1]"
   ]
  },
  {
   "cell_type": "code",
   "execution_count": 9,
   "metadata": {},
   "outputs": [],
   "source": [
    "for k,v in batch.items():\n",
    "    if isinstance(v, torch.Tensor):\n",
    "        batch[k] = v.to(device)"
   ]
  },
  {
   "cell_type": "code",
   "execution_count": 12,
   "metadata": {},
   "outputs": [],
   "source": [
    "import json\n",
    "dict_ = {}\n",
    "for k, v in batch.items():\n",
    "    if isinstance(v, torch.Tensor):\n",
    "        dict_[k] = v.cpu().numpy().tolist()\n",
    "    else:\n",
    "        dict_[k] = v\n",
    "json.dump(dict_, open(\"/home/doyooni303/experiments/LLMRec/ReLLMRec/notebook/last_batch.json\",\"w\"))"
   ]
  },
  {
   "cell_type": "markdown",
   "metadata": {},
   "source": [
    "### Load"
   ]
  },
  {
   "cell_type": "code",
   "execution_count": 5,
   "metadata": {},
   "outputs": [],
   "source": [
    "import json\n",
    "batch = json.load(open(\"/home/doyooni303/experiments/LLMRec/ReLLMRec/notebook/last_batch.json\",\"r\"))\n",
    "for k, v in batch.items():\n",
    "    if ('input_ids' in k) or ('attention_mask' in k) or ('target_item_id' in k):\n",
    "        batch[k] = torch.tensor(v).to(device)\n",
    "    "
   ]
  },
  {
   "cell_type": "code",
   "execution_count": 6,
   "metadata": {},
   "outputs": [],
   "source": [
    "model.train()\n",
    "_, loss1 = model(batch)"
   ]
  }
 ],
 "metadata": {
  "kernelspec": {
   "display_name": "Python 3",
   "language": "python",
   "name": "python3"
  },
  "language_info": {
   "codemirror_mode": {
    "name": "ipython",
    "version": 3
   },
   "file_extension": ".py",
   "mimetype": "text/x-python",
   "name": "python",
   "nbconvert_exporter": "python",
   "pygments_lexer": "ipython3",
   "version": "3.8.20"
  }
 },
 "nbformat": 4,
 "nbformat_minor": 2
}
